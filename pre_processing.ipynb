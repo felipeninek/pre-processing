{
 "cells": [
  {
   "attachments": {},
   "cell_type": "markdown",
   "metadata": {
    "heading_collapsed": true
   },
   "source": [
    "# Pre-processing"
   ]
  },
  {
   "attachments": {},
   "cell_type": "markdown",
   "metadata": {
    "heading_collapsed": true,
    "hidden": true
   },
   "source": [
    "#### Data cleaning"
   ]
  },
  {
   "attachments": {},
   "cell_type": "markdown",
   "metadata": {
    "ExecuteTime": {
     "end_time": "2022-05-18T17:48:25.546744Z",
     "start_time": "2022-05-18T17:48:25.539981Z"
    },
    "hidden": true
   },
   "source": [
    "<p>\n",
    "\n",
    "    Missing Data:\n",
    "        Removing the object if it has a large amount of missing data\n",
    "        Imputing empirically determined values\n",
    "        Assigning a constant value for missing values\n",
    "        Hot-deck imputation, imputing values based on similar objects or close distances\n",
    "        Sorting the dataset and using previous or subsequent values\n",
    "        Using mean or mode values from the entire dataset\n",
    "        Using mean or mode values from objects of the same class\n",
    "        Using classification/clustering/regression models to impute a value\n",
    "\n",
    "    Noisy Data:\n",
    "        Equal-width binning: Divide the dataset into bins and smooth the values using the mean of those bins\n",
    "        Equal-frequency binning: Divide the dataset into bins and smooth the values using the nearest extreme\n",
    "        Clustering: Grouping by class values\n",
    "        Approximation: Finding the equation of the line and using smoothed values based on the equation\n",
    "\n",
    "    Inconsistent Data:\n",
    "        To address this type of problem, it is necessary to analyze and understand the dataset. A value outside the attribute's domain can be treated by examining the dataset and determining \n",
    "    if it is a valid outlier or an error that needs to be corrected.\n",
    "</p>"
   ]
  },
  {
   "attachments": {},
   "cell_type": "markdown",
   "metadata": {
    "heading_collapsed": true,
    "hidden": true
   },
   "source": [
    "#### Data integration"
   ]
  },
  {
   "attachments": {},
   "cell_type": "markdown",
   "metadata": {
    "hidden": true
   },
   "source": [
    "<p>\n",
    "\n",
    "    In the process of integrating data from different databases, it is necessary to check for:\n",
    "        Redundancy between objects and attributes (e.g., age and date of birth)\n",
    "        Duplicity between objects and attributes (same data in different databases)\n",
    "        Conflicts between objects and attributes (e.g., attribute scales and different values for the same object)\n",
    "</p>"
   ]
  },
  {
   "attachments": {},
   "cell_type": "markdown",
   "metadata": {
    "heading_collapsed": true,
    "hidden": true
   },
   "source": [
    "#### Dimensionality reduction"
   ]
  },
  {
   "attachments": {},
   "cell_type": "markdown",
   "metadata": {
    "hidden": true
   },
   "source": [
    "<p>\n",
    "\n",
    "    Feature Selection:\n",
    "        Elimination of repetitive or unnecessary attributes\n",
    "\n",
    "    Attribute Compression:\n",
    "        Principal Component Analysis (PCA)\n",
    "        Identifies correlations between attributes\n",
    "\n",
    "    Data Reduction:\n",
    "        Sampling:\n",
    "            Non-replacement Sampling\n",
    "            Replacement Sampling\n",
    "            Systematic Sampling\n",
    "            Stratified Sampling\n",
    "            Cluster Sampling\n",
    "        Approximation Models:\n",
    "            Approximation Function\n",
    "            Clustering (k-means)\n",
    "</p>"
   ]
  },
  {
   "attachments": {},
   "cell_type": "markdown",
   "metadata": {
    "heading_collapsed": true,
    "hidden": true
   },
   "source": [
    "#### Data transformation"
   ]
  },
  {
   "attachments": {},
   "cell_type": "markdown",
   "metadata": {
    "hidden": true
   },
   "source": [
    "<p>\n",
    "\n",
    "    Standardization:\n",
    "        Standardizing uppercase and lowercase letters\n",
    "        Standardizing special characters\n",
    "        Standardizing formats (ex: date)\n",
    "        Standardizing units and scales\n",
    "\n",
    "    Normalization:\n",
    "        Max-Min: transforms values into a range of [0,1]\n",
    "        Z-Score: normalization using mean and standard deviation (when max and min values are unknown or in the presence of outliers)\n",
    "        Decimal scaling\n",
    "        Normalization by interquartile range\n",
    "</p>"
   ]
  },
  {
   "attachments": {},
   "cell_type": "markdown",
   "metadata": {
    "heading_collapsed": true,
    "hidden": true
   },
   "source": [
    "#### Data discretization"
   ]
  },
  {
   "attachments": {},
   "cell_type": "markdown",
   "metadata": {
    "hidden": true
   },
   "source": [
    "<p>\n",
    "\n",
    "    Transforming attribute values into categorical data:\n",
    "        Predefined intervals\n",
    "        Binning\n",
    "        Histogram analysis\n",
    "        Clustering\n",
    "        Entropy\n",
    "</p>"
   ]
  },
  {
   "attachments": {},
   "cell_type": "markdown",
   "metadata": {
    "heading_collapsed": true,
    "hidden": true
   },
   "source": [
    "### Example"
   ]
  },
  {
   "cell_type": "code",
   "execution_count": 3,
   "metadata": {
    "ExecuteTime": {
     "end_time": "2022-05-18T17:21:20.285593Z",
     "start_time": "2022-05-18T17:21:19.952940Z"
    },
    "hidden": true
   },
   "outputs": [
    {
     "data": {
      "text/html": [
       "<div>\n",
       "<style scoped>\n",
       "    .dataframe tbody tr th:only-of-type {\n",
       "        vertical-align: middle;\n",
       "    }\n",
       "\n",
       "    .dataframe tbody tr th {\n",
       "        vertical-align: top;\n",
       "    }\n",
       "\n",
       "    .dataframe thead th {\n",
       "        text-align: right;\n",
       "    }\n",
       "</style>\n",
       "<table border=\"1\" class=\"dataframe\">\n",
       "  <thead>\n",
       "    <tr style=\"text-align: right;\">\n",
       "      <th></th>\n",
       "      <th>id</th>\n",
       "      <th>idade</th>\n",
       "      <th>uf</th>\n",
       "      <th>renda</th>\n",
       "      <th>vacina</th>\n",
       "    </tr>\n",
       "  </thead>\n",
       "  <tbody>\n",
       "    <tr>\n",
       "      <th>0</th>\n",
       "      <td>1</td>\n",
       "      <td>15.0</td>\n",
       "      <td>SP</td>\n",
       "      <td>C</td>\n",
       "      <td>1</td>\n",
       "    </tr>\n",
       "    <tr>\n",
       "      <th>1</th>\n",
       "      <td>2</td>\n",
       "      <td>38.0</td>\n",
       "      <td>MG</td>\n",
       "      <td>NaN</td>\n",
       "      <td>0</td>\n",
       "    </tr>\n",
       "    <tr>\n",
       "      <th>2</th>\n",
       "      <td>3</td>\n",
       "      <td>49.0</td>\n",
       "      <td>RJ</td>\n",
       "      <td>C</td>\n",
       "      <td>0</td>\n",
       "    </tr>\n",
       "    <tr>\n",
       "      <th>3</th>\n",
       "      <td>4</td>\n",
       "      <td>71.0</td>\n",
       "      <td>BA</td>\n",
       "      <td>NaN</td>\n",
       "      <td>0</td>\n",
       "    </tr>\n",
       "    <tr>\n",
       "      <th>4</th>\n",
       "      <td>5</td>\n",
       "      <td>58.0</td>\n",
       "      <td>MG</td>\n",
       "      <td>D</td>\n",
       "      <td>1</td>\n",
       "    </tr>\n",
       "  </tbody>\n",
       "</table>\n",
       "</div>"
      ],
      "text/plain": [
       "   id  idade  uf renda  vacina\n",
       "0   1   15.0  SP     C       1\n",
       "1   2   38.0  MG   NaN       0\n",
       "2   3   49.0  RJ     C       0\n",
       "3   4   71.0  BA   NaN       0\n",
       "4   5   58.0  MG     D       1"
      ]
     },
     "execution_count": 3,
     "metadata": {},
     "output_type": "execute_result"
    }
   ],
   "source": [
    "import pandas as pd\n",
    "import numpy as np\n",
    "\n",
    "df = pd.read_csv('../pre-processing/data/covid.csv', sep=';', encoding='utf-8')\n",
    "df.head()"
   ]
  },
  {
   "cell_type": "code",
   "execution_count": 4,
   "metadata": {
    "ExecuteTime": {
     "end_time": "2022-05-18T17:21:20.310923Z",
     "start_time": "2022-05-18T17:21:20.300359Z"
    },
    "hidden": true
   },
   "outputs": [
    {
     "name": "stdout",
     "output_type": "stream",
     "text": [
      "<class 'pandas.core.frame.DataFrame'>\n",
      "RangeIndex: 50 entries, 0 to 49\n",
      "Data columns (total 5 columns):\n",
      " #   Column  Non-Null Count  Dtype  \n",
      "---  ------  --------------  -----  \n",
      " 0   id      50 non-null     int64  \n",
      " 1   idade   30 non-null     float64\n",
      " 2   uf      29 non-null     object \n",
      " 3   renda   31 non-null     object \n",
      " 4   vacina  50 non-null     int64  \n",
      "dtypes: float64(1), int64(2), object(2)\n",
      "memory usage: 2.1+ KB\n"
     ]
    }
   ],
   "source": [
    "df.info()"
   ]
  },
  {
   "cell_type": "code",
   "execution_count": 5,
   "metadata": {
    "ExecuteTime": {
     "end_time": "2022-05-18T17:21:20.426001Z",
     "start_time": "2022-05-18T17:21:20.322659Z"
    },
    "hidden": true
   },
   "outputs": [
    {
     "data": {
      "text/html": [
       "<div>\n",
       "<style scoped>\n",
       "    .dataframe tbody tr th:only-of-type {\n",
       "        vertical-align: middle;\n",
       "    }\n",
       "\n",
       "    .dataframe tbody tr th {\n",
       "        vertical-align: top;\n",
       "    }\n",
       "\n",
       "    .dataframe thead th {\n",
       "        text-align: right;\n",
       "    }\n",
       "</style>\n",
       "<table border=\"1\" class=\"dataframe\">\n",
       "  <thead>\n",
       "    <tr style=\"text-align: right;\">\n",
       "      <th></th>\n",
       "      <th>id</th>\n",
       "      <th>idade</th>\n",
       "      <th>vacina</th>\n",
       "    </tr>\n",
       "  </thead>\n",
       "  <tbody>\n",
       "    <tr>\n",
       "      <th>count</th>\n",
       "      <td>50.00000</td>\n",
       "      <td>30.000000</td>\n",
       "      <td>50.00000</td>\n",
       "    </tr>\n",
       "    <tr>\n",
       "      <th>mean</th>\n",
       "      <td>25.50000</td>\n",
       "      <td>48.666667</td>\n",
       "      <td>0.30000</td>\n",
       "    </tr>\n",
       "    <tr>\n",
       "      <th>std</th>\n",
       "      <td>14.57738</td>\n",
       "      <td>22.197131</td>\n",
       "      <td>0.46291</td>\n",
       "    </tr>\n",
       "    <tr>\n",
       "      <th>min</th>\n",
       "      <td>1.00000</td>\n",
       "      <td>14.000000</td>\n",
       "      <td>0.00000</td>\n",
       "    </tr>\n",
       "    <tr>\n",
       "      <th>25%</th>\n",
       "      <td>13.25000</td>\n",
       "      <td>33.500000</td>\n",
       "      <td>0.00000</td>\n",
       "    </tr>\n",
       "    <tr>\n",
       "      <th>50%</th>\n",
       "      <td>25.50000</td>\n",
       "      <td>48.500000</td>\n",
       "      <td>0.00000</td>\n",
       "    </tr>\n",
       "    <tr>\n",
       "      <th>75%</th>\n",
       "      <td>37.75000</td>\n",
       "      <td>61.000000</td>\n",
       "      <td>1.00000</td>\n",
       "    </tr>\n",
       "    <tr>\n",
       "      <th>max</th>\n",
       "      <td>50.00000</td>\n",
       "      <td>87.000000</td>\n",
       "      <td>1.00000</td>\n",
       "    </tr>\n",
       "  </tbody>\n",
       "</table>\n",
       "</div>"
      ],
      "text/plain": [
       "             id      idade    vacina\n",
       "count  50.00000  30.000000  50.00000\n",
       "mean   25.50000  48.666667   0.30000\n",
       "std    14.57738  22.197131   0.46291\n",
       "min     1.00000  14.000000   0.00000\n",
       "25%    13.25000  33.500000   0.00000\n",
       "50%    25.50000  48.500000   0.00000\n",
       "75%    37.75000  61.000000   1.00000\n",
       "max    50.00000  87.000000   1.00000"
      ]
     },
     "execution_count": 5,
     "metadata": {},
     "output_type": "execute_result"
    }
   ],
   "source": [
    "df.describe()"
   ]
  },
  {
   "cell_type": "code",
   "execution_count": 6,
   "metadata": {
    "ExecuteTime": {
     "end_time": "2022-05-18T17:21:20.518591Z",
     "start_time": "2022-05-18T17:21:20.450679Z"
    },
    "hidden": true
   },
   "outputs": [
    {
     "data": {
      "text/plain": [
       "uf\n",
       "SP    9\n",
       "MG    5\n",
       "BA    3\n",
       "RS    3\n",
       "RJ    2\n",
       "PE    2\n",
       "sp    1\n",
       "ce    1\n",
       "rj    1\n",
       "CE    1\n",
       "AM    1\n",
       "Name: count, dtype: int64"
      ]
     },
     "execution_count": 6,
     "metadata": {},
     "output_type": "execute_result"
    }
   ],
   "source": [
    "#verificar redundancia\n",
    "df['uf'].value_counts()"
   ]
  },
  {
   "cell_type": "code",
   "execution_count": 7,
   "metadata": {
    "ExecuteTime": {
     "end_time": "2022-05-18T17:21:20.620827Z",
     "start_time": "2022-05-18T17:21:20.598739Z"
    },
    "hidden": true
   },
   "outputs": [
    {
     "data": {
      "text/plain": [
       "uf\n",
       "SP    10\n",
       "MG     5\n",
       "RJ     3\n",
       "BA     3\n",
       "RS     3\n",
       "CE     2\n",
       "PE     2\n",
       "AM     1\n",
       "Name: count, dtype: int64"
      ]
     },
     "execution_count": 7,
     "metadata": {},
     "output_type": "execute_result"
    }
   ],
   "source": [
    "df['uf'] = df['uf'].str.upper()\n",
    "df['uf'].value_counts()"
   ]
  },
  {
   "cell_type": "code",
   "execution_count": 8,
   "metadata": {
    "ExecuteTime": {
     "end_time": "2022-05-18T17:21:20.756793Z",
     "start_time": "2022-05-18T17:21:20.741283Z"
    },
    "hidden": true
   },
   "outputs": [
    {
     "data": {
      "text/plain": [
       "vacina\n",
       "0    35\n",
       "1    15\n",
       "Name: count, dtype: int64"
      ]
     },
     "execution_count": 8,
     "metadata": {},
     "output_type": "execute_result"
    }
   ],
   "source": [
    "df['vacina'].value_counts()"
   ]
  },
  {
   "cell_type": "code",
   "execution_count": 9,
   "metadata": {
    "ExecuteTime": {
     "end_time": "2022-05-18T17:21:20.909814Z",
     "start_time": "2022-05-18T17:21:20.904598Z"
    },
    "hidden": true
   },
   "outputs": [],
   "source": [
    "#preencher valores nulos de idade com a média\n",
    "df['idade'].fillna(round(df['idade'].mean()), inplace=True)"
   ]
  },
  {
   "cell_type": "code",
   "execution_count": 10,
   "metadata": {
    "ExecuteTime": {
     "end_time": "2022-05-18T17:21:21.044481Z",
     "start_time": "2022-05-18T17:21:21.035912Z"
    },
    "hidden": true
   },
   "outputs": [],
   "source": [
    "#preencher valores nulos de uf com o próximo registro\n",
    "df['uf'].fillna(method='ffill', inplace=True)"
   ]
  },
  {
   "cell_type": "code",
   "execution_count": 11,
   "metadata": {
    "ExecuteTime": {
     "end_time": "2022-05-18T17:21:21.435026Z",
     "start_time": "2022-05-18T17:21:21.431293Z"
    },
    "hidden": true
   },
   "outputs": [],
   "source": [
    "#preencher valores de renda com o valor anterior\n",
    "df['renda'].fillna(method='bfill', inplace=True)"
   ]
  }
 ],
 "metadata": {
  "kernelspec": {
   "display_name": "env_ds",
   "language": "python",
   "name": "python3"
  },
  "language_info": {
   "codemirror_mode": {
    "name": "ipython",
    "version": 3
   },
   "file_extension": ".py",
   "mimetype": "text/x-python",
   "name": "python",
   "nbconvert_exporter": "python",
   "pygments_lexer": "ipython3",
   "version": "3.10.11"
  },
  "varInspector": {
   "cols": {
    "lenName": 16,
    "lenType": 16,
    "lenVar": 40
   },
   "kernels_config": {
    "python": {
     "delete_cmd_postfix": "",
     "delete_cmd_prefix": "del ",
     "library": "var_list.py",
     "varRefreshCmd": "print(var_dic_list())"
    },
    "r": {
     "delete_cmd_postfix": ") ",
     "delete_cmd_prefix": "rm(",
     "library": "var_list.r",
     "varRefreshCmd": "cat(var_dic_list()) "
    }
   },
   "types_to_exclude": [
    "module",
    "function",
    "builtin_function_or_method",
    "instance",
    "_Feature"
   ],
   "window_display": false
  },
  "vscode": {
   "interpreter": {
    "hash": "9b1c904fc8d11b9f604137630e50605c588c62fd2d312adc1cc5c0a7c8dab974"
   }
  }
 },
 "nbformat": 4,
 "nbformat_minor": 4
}
